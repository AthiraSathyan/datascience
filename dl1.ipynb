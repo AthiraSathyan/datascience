{
  "nbformat": 4,
  "nbformat_minor": 0,
  "metadata": {
    "colab": {
      "name": "dl1.ipynb",
      "provenance": [],
      "authorship_tag": "ABX9TyMSHGUqpNxRpILfFb+Fl/7+",
      "include_colab_link": true
    },
    "kernelspec": {
      "name": "python3",
      "display_name": "Python 3"
    },
    "language_info": {
      "name": "python"
    }
  },
  "cells": [
    {
      "cell_type": "markdown",
      "metadata": {
        "id": "view-in-github",
        "colab_type": "text"
      },
      "source": [
        "<a href=\"https://colab.research.google.com/github/AthiraSathyan/datascience/blob/main/dl1.ipynb\" target=\"_parent\"><img src=\"https://colab.research.google.com/assets/colab-badge.svg\" alt=\"Open In Colab\"/></a>"
      ]
    },
    {
      "cell_type": "code",
      "metadata": {
        "id": "QzCaIZXIfkXv",
        "colab": {
          "base_uri": "https://localhost:8080/"
        },
        "outputId": "00b92815-75e6-4266-da9c-8f74124683e6"
      },
      "source": [
        "from sklearn.linear_model import Perceptron\n",
        "x=[[1,0],[1,1],[2,0]]\n",
        "y=[\"boy\",\"girl\",\"boy\"]\n",
        "ML=Perceptron()\n",
        "ML=ML.fit(x,y)\n",
        "result=ML.predict([[1,0],[2,0]])\n",
        "print(result)\n",
        "\n"
      ],
      "execution_count": null,
      "outputs": [
        {
          "output_type": "stream",
          "name": "stdout",
          "text": [
            "['boy' 'boy']\n"
          ]
        }
      ]
    },
    {
      "cell_type": "code",
      "metadata": {
        "id": "BjhMgu5aft4V",
        "colab": {
          "base_uri": "https://localhost:8080/"
        },
        "outputId": "ab0e3975-db07-4e19-d6be-a1cf40497f5c"
      },
      "source": [
        "from sklearn.neural_network import MLPClassifier\n",
        "x=[[1,0],[1,1],[2,0]]\n",
        "y=[\"boy\",\"girl\",\"boy\"]\n",
        "ML=MLPClassifier(hidden_layer_sizes=(10),activation=\"relu\")\n",
        "ML=ML.fit(x,y)\n",
        "result=ML.predict([[1,0],[1,1]])\n",
        "print(result)\n"
      ],
      "execution_count": 1,
      "outputs": [
        {
          "output_type": "stream",
          "name": "stdout",
          "text": [
            "['boy' 'girl']\n"
          ]
        },
        {
          "output_type": "stream",
          "name": "stderr",
          "text": [
            "/usr/local/lib/python3.7/dist-packages/sklearn/neural_network/_multilayer_perceptron.py:696: ConvergenceWarning: Stochastic Optimizer: Maximum iterations (200) reached and the optimization hasn't converged yet.\n",
            "  ConvergenceWarning,\n"
          ]
        }
      ]
    }
  ]
}