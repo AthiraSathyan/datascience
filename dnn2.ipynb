{
  "nbformat": 4,
  "nbformat_minor": 0,
  "metadata": {
    "colab": {
      "name": "dnn2.ipynb",
      "provenance": [],
      "authorship_tag": "ABX9TyMkwA2ks70Gumego6NXrXGs",
      "include_colab_link": true
    },
    "kernelspec": {
      "name": "python3",
      "display_name": "Python 3"
    },
    "language_info": {
      "name": "python"
    }
  },
  "cells": [
    {
      "cell_type": "markdown",
      "metadata": {
        "id": "view-in-github",
        "colab_type": "text"
      },
      "source": [
        "<a href=\"https://colab.research.google.com/github/AthiraSathyan/datascience/blob/main/dnn2.ipynb\" target=\"_parent\"><img src=\"https://colab.research.google.com/assets/colab-badge.svg\" alt=\"Open In Colab\"/></a>"
      ]
    },
    {
      "cell_type": "code",
      "execution_count": null,
      "metadata": {
        "id": "0Gp6TCVd7v_6"
      },
      "outputs": [],
      "source": [
        "import tensorflow as tf\n",
        "from tensorflow import keras\n",
        "import matplotlib.pyplot as plt\n"
      ]
    },
    {
      "cell_type": "code",
      "source": [
        "mnistDB=keras.datasets.mnist\n",
        "(x_train,y_train),(x_test,y_test)=mnistDB.load_data()"
      ],
      "metadata": {
        "id": "Rh1JDiKi8LC6",
        "colab": {
          "base_uri": "https://localhost:8080/"
        },
        "outputId": "6996b943-32ea-45d1-a427-941df156dadc"
      },
      "execution_count": null,
      "outputs": [
        {
          "output_type": "stream",
          "name": "stdout",
          "text": [
            "Downloading data from https://storage.googleapis.com/tensorflow/tf-keras-datasets/mnist.npz\n",
            "11493376/11490434 [==============================] - 0s 0us/step\n",
            "11501568/11490434 [==============================] - 0s 0us/step\n"
          ]
        }
      ]
    },
    {
      "cell_type": "code",
      "source": [
        "x_train=x_train.reshape((60000,28*28))\n",
        "x_test=x_test.reshape((10000,28*28))\n"
      ],
      "metadata": {
        "id": "nbrmdl7q8t9w"
      },
      "execution_count": null,
      "outputs": []
    },
    {
      "cell_type": "code",
      "source": [
        "y_train=y_train.astype('float32')/255\n",
        "y_test=y_test.astype('float32')/255\n",
        "ML=keras.models.Sequential()\n"
      ],
      "metadata": {
        "id": "sG_yYrLc9EKO"
      },
      "execution_count": null,
      "outputs": []
    },
    {
      "cell_type": "code",
      "source": [
        "ML.add(keras.layers.Dense(units=50,activation='relu',input_shape=x_train.shape[1:]))\n",
        "ML.add(keras.layers.Dense(units=100,activation='relu'))\n",
        "ML.add(keras.layers.Dense(units=70,activation='relu'))\n",
        "ML.add(keras.layers.Dense(units=10,activation='softmax'))\n",
        "ML.summary()\n",
        "ML.compile(loss='sparse_categorical_crossentropy',optimizer='adam',metrics=['accuracy'])\n",
        "ML.fit(x_train,y_train,epochs=1,batch_size=16)\n",
        "test_loss,test_acc=ML.evaluate(x_test,y_test)\n",
        "from keras.preprocessing.image import load_img\n",
        "from keras.preprocessing.image import img_to_array\n",
        "from keras.models import load_model\n",
        "img=load_img('a1.jpg',grayscale=True,target_size=(28,28))\n",
        "plt.imshow(img)\n",
        "img=img_to_array(img)\n",
        "img=img.reshape(1,28*28)\n",
        "#img=img.reshape(28*28,1)\n",
        "img=img.astype('float32')/255.0\n",
        "digit=ML.predict(img)\n",
        "print('digit is ',digit[0])"
      ],
      "metadata": {
        "colab": {
          "base_uri": "https://localhost:8080/",
          "height": 823
        },
        "id": "GeHlr7-M934_",
        "outputId": "6d708400-2390-435a-e02a-4e98774f050f"
      },
      "execution_count": null,
      "outputs": [
        {
          "output_type": "stream",
          "name": "stdout",
          "text": [
            "Model: \"sequential\"\n",
            "_________________________________________________________________\n",
            " Layer (type)                Output Shape              Param #   \n",
            "=================================================================\n",
            " dense (Dense)               (None, 50)                39250     \n",
            "                                                                 \n",
            " dense_1 (Dense)             (None, 100)               5100      \n",
            "                                                                 \n",
            " dense_2 (Dense)             (None, 70)                7070      \n",
            "                                                                 \n",
            " dense_3 (Dense)             (None, 10)                710       \n",
            "                                                                 \n",
            " dense_4 (Dense)             (None, 50)                550       \n",
            "                                                                 \n",
            " dense_5 (Dense)             (None, 100)               5100      \n",
            "                                                                 \n",
            " dense_6 (Dense)             (None, 70)                7070      \n",
            "                                                                 \n",
            " dense_7 (Dense)             (None, 10)                710       \n",
            "                                                                 \n",
            "=================================================================\n",
            "Total params: 65,560\n",
            "Trainable params: 65,560\n",
            "Non-trainable params: 0\n",
            "_________________________________________________________________\n",
            "3750/3750 [==============================] - 10s 3ms/step - loss: 0.0116 - accuracy: 0.0987\n",
            "313/313 [==============================] - 1s 2ms/step - loss: 2.8610e-06 - accuracy: 0.0980\n",
            "digit is "
          ]
        },
        {
          "output_type": "stream",
          "name": "stderr",
          "text": [
            "/usr/local/lib/python3.7/dist-packages/keras_preprocessing/image/utils.py:107: UserWarning: grayscale is deprecated. Please use color_mode = \"grayscale\"\n",
            "  warnings.warn('grayscale is deprecated. Please use '\n"
          ]
        },
        {
          "output_type": "stream",
          "name": "stdout",
          "text": [
            " [9.9989045e-01 7.7538398e-06 2.0732410e-05 1.4655202e-05 1.1598472e-05\n",
            " 2.7537424e-05 6.2250579e-06 3.6645795e-06 1.0933947e-05 6.4409655e-06]\n"
          ]
        },
        {
          "output_type": "display_data",
          "data": {
            "image/png": "[encoded data removed]",
            "text/plain": [
              "<Figure size 432x288 with 1 Axes>"
            ]
          },
          "metadata": {
            "needs_background": "light"
          }
        }
      ]
    }
  ]
}